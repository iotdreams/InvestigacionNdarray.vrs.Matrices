{
 "cells": [
  {
   "cell_type": "markdown",
   "metadata": {},
   "source": [
    "## Erick Pineda Amézquita\n",
    "## 17012140 \n",
    "##             Numpy, Matrix y Ndarray ## \n"
   ]
  },
  {
   "cell_type": "markdown",
   "metadata": {},
   "source": [
    "## -----------------\n",
    "#### Diferencias:\n",
    "\n",
    "\n",
    "Cuando se utiliza la librería Numpy, el procesamiento de multiples dimensiones se puede realizar por medio de Matrix o de Ndarray. \n",
    "La clase general es \"ndarray\", por lo que \"matrix\" es una clase heredada de \"ndarray\".\n",
    "La diferencia es que \"matrix\" es específicamente para dos dimensiones, incluyendo algunos métodos de \"ndarray\" como la transpueta, mientras que \"ndarray\" sirve para múltiples dimensiones, es decir que soporte mas de 2 dimensiones, por eso se llama \"n\" \"dimension\" \"array\".\n",
    "Un dato importante, es que no se recomienda utilizar \"matrix\" ya que la clase puede ser removida en versiones futuras de python.\n",
    "\n",
    "Parametros de ndarray: ¶\n",
    "class numpy.ndarray(shape, dtype=float, buffer=None, offset=0, strides=None, order=None)¶\n",
    "\n",
    "\n",
    "Parametros de matrix: ¶\n",
    "class numpy.matrix(data, dtype=None, copy=True)¶\n",
    "\n",
    "\n"
   ]
  },
  {
   "cell_type": "code",
   "execution_count": 2,
   "metadata": {},
   "outputs": [],
   "source": [
    "import numpy as np"
   ]
  },
  {
   "cell_type": "code",
   "execution_count": 7,
   "metadata": {},
   "outputs": [
    {
     "data": {
      "text/plain": [
       "matrix([[ 1,  2,  3,  4,  5],\n",
       "        [ 6,  7,  8,  9, 10]])"
      ]
     },
     "execution_count": 7,
     "metadata": {},
     "output_type": "execute_result"
    }
   ],
   "source": [
    "## Creacion de matrices Numpy:\n",
    "\n",
    "myMatrix= np.matrix('1 2 3 4 5;6 7 8 9 10')\n",
    "myMatrix"
   ]
  },
  {
   "cell_type": "code",
   "execution_count": 9,
   "metadata": {},
   "outputs": [
    {
     "ename": "IndentationError",
     "evalue": "unexpected indent (<ipython-input-9-4be9e9601c85>, line 4)",
     "output_type": "error",
     "traceback": [
      "\u001b[1;36m  File \u001b[1;32m\"<ipython-input-9-4be9e9601c85>\"\u001b[1;36m, line \u001b[1;32m4\u001b[0m\n\u001b[1;33m    myNDarray = np.arange(10) # Creamos un array de 0 a 9 separados de uno en uno\u001b[0m\n\u001b[1;37m    ^\u001b[0m\n\u001b[1;31mIndentationError\u001b[0m\u001b[1;31m:\u001b[0m unexpected indent\n"
     ]
    }
   ],
   "source": [
    "## Creacion de un arreglo multidimensional:\n",
    "\n",
    "\n",
    " myNDarray = np.arange(10) # Creamos un array de 0 a 9 separados de uno en uno\n",
    " print(myNDarray) # Presentamos en pantalla el array creado\n",
    "array([0, 1, 2, 3, 4, 5, 6, 7, 8, 9])\n",
    "type(myNDarray)   #Comprobamos que es un ndarray\n",
    "\n",
    "myNDarray.ndim    # Consultamos el número de dimensiones\n",
    "\n",
    "myNDarray.shape   # Consultamos la dimensión\n",
    "\n",
    "myNDarray.size   "
   ]
  }
 ],
 "metadata": {
  "kernelspec": {
   "display_name": "Python 3",
   "language": "python",
   "name": "python3"
  },
  "language_info": {
   "codemirror_mode": {
    "name": "ipython",
    "version": 3
   },
   "file_extension": ".py",
   "mimetype": "text/x-python",
   "name": "python",
   "nbconvert_exporter": "python",
   "pygments_lexer": "ipython3",
   "version": "3.7.1"
  }
 },
 "nbformat": 4,
 "nbformat_minor": 2
}
