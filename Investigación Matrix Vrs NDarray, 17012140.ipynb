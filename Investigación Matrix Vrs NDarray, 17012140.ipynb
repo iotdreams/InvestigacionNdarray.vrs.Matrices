{
 "cells": [
  {
   "cell_type": "markdown",
   "metadata": {},
   "source": [
    "## Erick Pineda Amézquita\n",
    "## 17012140 \n",
    "##             Numpy, Matrix y Ndarray ## \n"
   ]
  },
  {
   "cell_type": "markdown",
   "metadata": {},
   "source": [
    "## -----------------\n",
    "#### Diferencias:\n",
    "\n",
    "\n",
    "Cuando se utiliza la librería Numpy, el procesamiento de multiples dimensiones se puede realizar por medio de Matrix o de Ndarray. \n",
    "La clase general es \"ndarray\", por lo que \"matrix\" es una clase heredada de \"ndarray\".\n",
    "La diferencia es que \"matrix\" es específicamente para dos dimensiones, incluyendo algunos métodos de \"ndarray\" como la transpueta, mientras que \"ndarray\" sirve para múltiples dimensiones, es decir que soporte mas de 2 dimensiones, por eso se llama \"n\" \"dimension\" \"array\".\n",
    "Un dato importante, es que no se recomienda utilizar \"matrix\" ya que la clase puede ser removida en versiones futuras de python.\n",
    "\n",
    "Parametros de ndarray: ¶\n",
    "class numpy.ndarray(shape, dtype=float, buffer=None, offset=0, strides=None, order=None)¶\n",
    "\n",
    "\n",
    "Parametros de matrix: ¶\n",
    "class numpy.matrix(data, dtype=None, copy=True)¶\n",
    "\n",
    "\n"
   ]
  },
  {
   "cell_type": "code",
   "execution_count": 2,
   "metadata": {},
   "outputs": [],
   "source": [
    "import numpy as np"
   ]
  },
  {
   "cell_type": "code",
   "execution_count": 7,
   "metadata": {},
   "outputs": [
    {
     "data": {
      "text/plain": [
       "matrix([[ 1,  2,  3,  4,  5],\n",
       "        [ 6,  7,  8,  9, 10]])"
      ]
     },
     "execution_count": 7,
     "metadata": {},
     "output_type": "execute_result"
    }
   ],
   "source": [
    "## Creacion de matrices Numpy:\n",
    "\n",
    "myMatrix= np.matrix('1 2 3 4 5;6 7 8 9 10')\n",
    "myMatrix"
   ]
  },
  {
   "cell_type": "code",
   "execution_count": 20,
   "metadata": {},
   "outputs": [
    {
     "name": "stdout",
     "output_type": "stream",
     "text": [
      "[[ 1  2  3  4  5]\n",
      " [ 6  7  8  9 10]]\n",
      "<class 'numpy.ndarray'>\n",
      "2\n",
      "(2, 5)\n",
      "10\n"
     ]
    }
   ],
   "source": [
    "## Creacion de un arreglo multidimensional:\n",
    "\n",
    "## Crear un arreglo de 10 elementos\n",
    "myNDarray = np.array([[1,2,3,4,5],[6,7,8,9,10]], np.int32) \n",
    "print(myNDarray)\n",
    "\n",
    "# Verificar el tipo, notar que es un ndarray\n",
    "print(type(myNDarray))   \n",
    "\n",
    "print(myNDarray.ndim)    # Consultamos el número de dimensiones\n",
    "print(myNDarray.shape)   # Consultamos la dimensión\n",
    "print(myNDarray.size)   "
   ]
  },
  {
   "cell_type": "code",
   "execution_count": 25,
   "metadata": {},
   "outputs": [
    {
     "data": {
      "text/plain": [
       "matrix([[ 1,  6],\n",
       "        [ 2,  7],\n",
       "        [ 3,  8],\n",
       "        [ 4,  9],\n",
       "        [ 5, 10]])"
      ]
     },
     "execution_count": 25,
     "metadata": {},
     "output_type": "execute_result"
    }
   ],
   "source": [
    "## Traspuesta de la matriz\n",
    "\n",
    "myMatrix.T\n",
    "\n"
   ]
  },
  {
   "cell_type": "code",
   "execution_count": 29,
   "metadata": {},
   "outputs": [
    {
     "data": {
      "text/plain": [
       "array([[ 1,  6],\n",
       "       [ 2,  7],\n",
       "       [ 3,  8],\n",
       "       [ 4,  9],\n",
       "       [ 5, 10]])"
      ]
     },
     "execution_count": 29,
     "metadata": {},
     "output_type": "execute_result"
    }
   ],
   "source": [
    "## Traspuesta del ndarray\n",
    "myNDarray.T\n"
   ]
  },
  {
   "cell_type": "code",
   "execution_count": 38,
   "metadata": {},
   "outputs": [
    {
     "data": {
      "text/plain": [
       "array([[ 1.,  2.,  3.,  4.,  5.],\n",
       "       [ 6.,  7.,  8.,  9., 10.],\n",
       "       [11., 12., 13., 14., 15.]])"
      ]
     },
     "execution_count": 38,
     "metadata": {},
     "output_type": "execute_result"
    }
   ],
   "source": [
    "## un arreglo con decimales\n",
    "myNDarrayMulti = np.array([[1,2,3,4,5],[6,7,8,9,10],[11,12,13,14,15]], np.float) \n",
    "myNDarrayMulti\n"
   ]
  }
 ],
 "metadata": {
  "kernelspec": {
   "display_name": "Python 3",
   "language": "python",
   "name": "python3"
  },
  "language_info": {
   "codemirror_mode": {
    "name": "ipython",
    "version": 3
   },
   "file_extension": ".py",
   "mimetype": "text/x-python",
   "name": "python",
   "nbconvert_exporter": "python",
   "pygments_lexer": "ipython3",
   "version": "3.7.1"
  }
 },
 "nbformat": 4,
 "nbformat_minor": 2
}
